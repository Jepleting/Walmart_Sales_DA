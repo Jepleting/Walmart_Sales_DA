{
 "cells": [
  {
   "cell_type": "markdown",
   "id": "04da4c91-3994-480f-91fb-f3bef06b5949",
   "metadata": {},
   "source": [
    "## 2. Data Collection\n",
    "Data was downloaded using the Kaggle API"
   ]
  },
  {
   "cell_type": "code",
   "execution_count": 1,
   "id": "da76fdee",
   "metadata": {},
   "outputs": [],
   "source": [
    "import Kaggle"
   ]
  },
  {
   "cell_type": "code",
   "execution_count": 3,
   "id": "9f305a20-fbac-4900-9378-c3dd2a1c7a71",
   "metadata": {},
   "outputs": [
    {
     "name": "stdout",
     "output_type": "stream",
     "text": [
      "Collecting kaggle\n",
      "  Using cached kaggle-1.6.17.tar.gz (82 kB)\n",
      "  Preparing metadata (setup.py): started\n",
      "  Preparing metadata (setup.py): finished with status 'done'\n",
      "Building wheels for collected packages: kaggle\n",
      "  Building wheel for kaggle (setup.py): started\n",
      "  Building wheel for kaggle (setup.py): finished with status 'done'\n",
      "  Created wheel for kaggle: filename=kaggle-1.6.17-py3-none-any.whl size=105796 sha256=0daf759f6e44fcb3a4a7a48780cd6f3e565f7b0c7f76dc87ded9ea273caa48ac\n",
      "  Stored in directory: c:\\users\\jeple\\appdata\\local\\pip\\cache\\wheels\\46\\d2\\26\\84d0a1acdb9c6baccf7d28cf06962ec80529fe1ad938489983\n",
      "Successfully built kaggle\n",
      "Installing collected packages: kaggle\n",
      "  Attempting uninstall: kaggle\n",
      "    Found existing installation: kaggle 1.6.14\n",
      "    Uninstalling kaggle-1.6.14:\n",
      "      Successfully uninstalled kaggle-1.6.14\n",
      "Successfully installed kaggle-1.6.17\n"
     ]
    }
   ],
   "source": [
    " !pip install --upgrade --force-reinstall --no-deps kaggle"
   ]
  },
  {
   "cell_type": "code",
   "execution_count": 2,
   "id": "b4c10d0d-5175-442d-a116-a216c7365e02",
   "metadata": {},
   "outputs": [
    {
     "name": "stdout",
     "output_type": "stream",
     "text": [
      "Warning: Looks like you're using an outdated API Version, please consider updating (server 1.6.17 / client 1.6.14)\n",
      "Dataset URL: https://www.kaggle.com/datasets/najir0123/walmart-10k-sales-datasets\n",
      "License(s): MIT\n",
      "Downloading walmart-10k-sales-datasets.zip to C:\\Users\\jeple\\Documents\\Github\\Walmart_Sales_DA\n",
      "\n"
     ]
    },
    {
     "name": "stderr",
     "output_type": "stream",
     "text": [
      "\n",
      "  0%|          | 0.00/143k [00:00<?, ?B/s]\n",
      "100%|##########| 143k/143k [00:00<00:00, 201kB/s]\n",
      "100%|##########| 143k/143k [00:00<00:00, 200kB/s]\n"
     ]
    }
   ],
   "source": [
    "!kaggle datasets download -d najir0123/walmart-10k-sales-datasets"
   ]
  },
  {
   "cell_type": "code",
   "execution_count": 4,
   "id": "529e3e24-87ab-4950-bdad-8079004ba370",
   "metadata": {},
   "outputs": [
    {
     "ename": "ModuleNotFoundError",
     "evalue": "No module named 'Pandas'",
     "output_type": "error",
     "traceback": [
      "\u001b[1;31m---------------------------------------------------------------------------\u001b[0m",
      "\u001b[1;31mModuleNotFoundError\u001b[0m                       Traceback (most recent call last)",
      "Cell \u001b[1;32mIn[4], line 1\u001b[0m\n\u001b[1;32m----> 1\u001b[0m \u001b[38;5;28;01mimport\u001b[39;00m \u001b[38;5;21;01mPandas\u001b[39;00m \u001b[38;5;28;01mas\u001b[39;00m \u001b[38;5;21;01mpd\u001b[39;00m\n",
      "\u001b[1;31mModuleNotFoundError\u001b[0m: No module named 'Pandas'"
     ]
    }
   ],
   "source": [
    "import Pandas as pd"
   ]
  },
  {
   "cell_type": "code",
   "execution_count": null,
   "id": "55a3049e-7f16-4d83-b7ee-8522b5107dcf",
   "metadata": {},
   "outputs": [],
   "source": []
  }
 ],
 "metadata": {
  "kernelspec": {
   "display_name": "Python 3 (ipykernel)",
   "language": "python",
   "name": "python3"
  },
  "language_info": {
   "codemirror_mode": {
    "name": "ipython",
    "version": 3
   },
   "file_extension": ".py",
   "mimetype": "text/x-python",
   "name": "python",
   "nbconvert_exporter": "python",
   "pygments_lexer": "ipython3",
   "version": "3.12.2"
  }
 },
 "nbformat": 4,
 "nbformat_minor": 5
}
